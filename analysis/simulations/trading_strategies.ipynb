{
 "cells": [
  {
   "cell_type": "code",
   "execution_count": 21,
   "metadata": {},
   "outputs": [],
   "source": [
    "# imports \n",
    "import numpy as np\n",
    "import pandas as pd\n",
    "import warnings\n",
    "import joblib\n",
    "import torch\n",
    "from torch import nn"
   ]
  },
  {
   "cell_type": "code",
   "execution_count": 22,
   "metadata": {},
   "outputs": [],
   "source": [
    "# define the path where the data is persisted\n",
    "STORAGE_PATH = \"../../persisted_data/feather/{}_normalized.feather\"\n",
    "STORAGE_PATH_MODELS = \"../../persisted_data/models/{}\""
   ]
  },
  {
   "cell_type": "code",
   "execution_count": 23,
   "metadata": {},
   "outputs": [],
   "source": [
    "def load_data_set(name):\n",
    "    data = pd.read_feather(STORAGE_PATH.format(name))\n",
    "    return data"
   ]
  },
  {
   "cell_type": "code",
   "execution_count": 24,
   "metadata": {},
   "outputs": [],
   "source": [
    "value_stock = load_data_set(\"IBM\")"
   ]
  },
  {
   "cell_type": "code",
   "execution_count": 25,
   "metadata": {},
   "outputs": [],
   "source": [
    "# find all indicator columns\n",
    "all_indicators = value_stock.columns[~value_stock.columns.str.contains(\"future|current\", regex=True)]"
   ]
  },
  {
   "cell_type": "markdown",
   "metadata": {},
   "source": [
    "# Trading strategies\n",
    "A trading strategy or rule, as it is implemented here, is a rule assigning a desired position to every time point for each stock. The trading rule can take advantage of any indicator evaluated until the given time point."
   ]
  },
  {
   "cell_type": "markdown",
   "metadata": {},
   "source": [
    "## The regulating speculator\n",
    "This strategy uses the position of the current price within a range defined by the bollinger bands, support and resistance lines or regression lines. The position is chosen to be higher, when the price is low in comparison to the range defined by the indicators."
   ]
  },
  {
   "cell_type": "code",
   "execution_count": 2,
   "metadata": {},
   "outputs": [],
   "source": [
    "# abstract definition of a regulating speculator\n",
    "# the trading rule is constructed using the indicators, which are considered\n",
    "def regulating_speculator(stock, indicators, min_position=0, max_position=1):\n",
    "    # a nanmean of an empty slice triggers a warning, but returns nan, which is correct\n",
    "    warnings.simplefilter(\"ignore\", category=RuntimeWarning)\n",
    "    # get the indicator data\n",
    "    indicator_values = stock[indicators]\n",
    "    \n",
    "    # calculate the mean, if possible\n",
    "    mean_features = np.nanmean(indicator_values, axis=1)\n",
    "    \n",
    "    # the rule causes a higher position in the stock, if the indicators are low (potentially underpriced)\n",
    "    rule = (1 - np.where(np.isnan(mean_features), 0, mean_features))\n",
    "    \n",
    "    # clip the resulting rule \n",
    "    return np.clip(rule, min_position, max_position)"
   ]
  },
  {
   "cell_type": "code",
   "execution_count": 3,
   "metadata": {},
   "outputs": [],
   "source": [
    "# define the indicators used for the different strategies\n",
    "bollinger_indicators = indicators_bollinger = [\"bollinger_position20_2\", \"bollinger_position50_2\", \"bollinger_position100_2\", \"bollinger_position200_2\"]\n",
    "horizontal_indicators = [\"horizontal_position20\", \"horizontal_position50\", \"horizontal_position100\", \"horizontal_position200\"]\n",
    "regression_indicators = [\"regression_position20\", \"regression_position50\", \"regression_position100\", \"regression_position200\"]\n",
    "mixed_indicators = [\"bollinger_position50_2\", \"horizontal_position100\", \"regression_position100\"]\n",
    "\n",
    "# define the regulating strategies\n",
    "regulating_speculator_strategies = {\n",
    "    \"bollinger speculator\": lambda stock: regulating_speculator(stock, bollinger_indicators, 0, 1),\n",
    "    \"support resistance speculator\": lambda stock: regulating_speculator(stock, horizontal_indicators, 0, 1),\n",
    "    \"regression position speculator\": lambda stock: regulating_speculator(stock, regression_indicators, 0, 1),\n",
    "    \"mixed regulating speculator\": lambda stock: regulating_speculator(stock, mixed_indicators, 0, 1),\n",
    "}"
   ]
  },
  {
   "cell_type": "markdown",
   "metadata": {},
   "source": [
    "## Price position volatility reduction\n",
    "The absolute deviation from a mean as defined in the bollinger position experiment seems to be correlated to the future volatility. This strategy reduces the exposure to stocks, which deviated from the mean."
   ]
  },
  {
   "cell_type": "code",
   "execution_count": 4,
   "metadata": {},
   "outputs": [],
   "source": [
    "def volatility_reducer(stock, indicators):\n",
    "    # a nanmean of an empty slice triggers a warning, but returns nan, which is correct\n",
    "    warnings.simplefilter(\"ignore\", category=RuntimeWarning)\n",
    "    # get the indicator data\n",
    "    indicator_values = stock[indicators]\n",
    "    \n",
    "    # calculate the mean, if possible\n",
    "    mean_features = np.nanmean(np.abs(indicator_values), axis=1)\n",
    "    \n",
    "    # the rule causes a higher position in the stock, if the indicators are low (potentially underpriced)\n",
    "    rule = (1 - np.where(np.isnan(mean_features), 0, mean_features))\n",
    "    \n",
    "    return np.maximum(rule, 0)\n",
    "\n",
    "\n",
    "\n",
    "# define the indicators used for the different strategies\n",
    "bollinger_indicators = indicators_bollinger = [\"bollinger_position20_2\", \"bollinger_position50_2\", \"bollinger_position100_2\", \"bollinger_position200_2\"]\n",
    "horizontal_indicators = [\"horizontal_position20\", \"horizontal_position50\", \"horizontal_position100\", \"horizontal_position200\"]\n",
    "regression_indicators = [\"regression_position20\", \"regression_position50\", \"regression_position100\", \"regression_position200\"]\n",
    "mixed_indicators = [\"bollinger_position50_2\", \"horizontal_position100\", \"regression_position100\"]\n",
    "\n",
    "# define the regulating strategies\n",
    "volatility_reducer_strategies = {\n",
    "    \"bollinger volatility reducer\": lambda stock: volatility_reducer(stock, bollinger_indicators),\n",
    "    \"support resistance volatility reducer\": lambda stock: volatility_reducer(stock, horizontal_indicators),\n",
    "    \"regression position volatility reducer\": lambda stock: volatility_reducer(stock, regression_indicators),\n",
    "    \"mixed regulating volatility reducer\": lambda stock: volatility_reducer(stock, mixed_indicators)\n",
    "}"
   ]
  },
  {
   "cell_type": "markdown",
   "metadata": {},
   "source": [
    "## Relative strength balancer\n",
    "\n",
    "The Relative Strength Index tries to detect time periods during which a stock is significantly overvalued or undervalued. A RSI above 70 is believed to signal an extreme upward move (overbought) and a value below 30 is believed to detect undervalued stocks. The RSI threshold transformation is already mapping those two cases to -1, 0 and 1, which makes the construction of the trading rule easier.\n"
   ]
  },
  {
   "cell_type": "code",
   "execution_count": 6,
   "metadata": {},
   "outputs": [],
   "source": [
    "def rsi_average_balancer(stock, rsi):\n",
    "    return np.where(stock[rsi] == -1, 1, 0)\n",
    "\n",
    "rsi_strategies = {\n",
    "    \"rsi4 balancer\": lambda stock: rsi_average_balancer(stock, \"rsi_threshold4\"),\n",
    "    \"rsi7 balancer\": lambda stock: rsi_average_balancer(stock, \"rsi_threshold7\"),\n",
    "    \"rsi14 balancer\": lambda stock: rsi_average_balancer(stock, \"rsi_threshold14\"),\n",
    "    \"rsi20 balancer\": lambda stock: rsi_average_balancer(stock, \"rsi_threshold20\"),\n",
    "}"
   ]
  },
  {
   "cell_type": "markdown",
   "metadata": {},
   "source": [
    "## Moving average balancer\n",
    "The moving average is an objective measure of fair price. If the price is above the moving average, it is objectively \"high\" and \"low\" otherwise. This rule sets a position in a stock, when the price is below a moving average.\n"
   ]
  },
  {
   "cell_type": "code",
   "execution_count": 8,
   "metadata": {},
   "outputs": [],
   "source": [
    "def moving_average_balancer(stock, ma):\n",
    "    return np.where(stock[ma] > 0, 1, 0)\n",
    "\n",
    "ema_strategies = {\n",
    "    \"ema10 balancer\": lambda stock: moving_average_balancer(stock, \"ema10\"),\n",
    "    \"ema20 balancer\": lambda stock: moving_average_balancer(stock, \"ema20\"),\n",
    "    \"ema50 balancer\": lambda stock: moving_average_balancer(stock, \"ema50\"),\n",
    "    \"ema100 balancer\": lambda stock: moving_average_balancer(stock, \"ema100\"),\n",
    "    \"ema200 balancer\": lambda stock: moving_average_balancer(stock, \"ema200\")\n",
    "}"
   ]
  },
  {
   "cell_type": "markdown",
   "metadata": {},
   "source": [
    "## SVM Classifier"
   ]
  },
  {
   "cell_type": "code",
   "execution_count": 13,
   "metadata": {},
   "outputs": [],
   "source": [
    "# load the svm classifier\n",
    "svm_indicators = [\"sma10\", \"sma20\", \"sma50\", \"sma100\", \"lwma10\", \"lwma20\", \"lwma50\", \"lwma100\", \"lwma200\",\n",
    "              \"ema10\", \"ema20\", \"ema50\", \"ema100\", \"rate_of_change20\", \"rate_of_change50\", \n",
    "              \"horizontal_position20\", \"horizontal_position50\", \"horizontal_position100\",\n",
    "              \"regression_position20\", \"regression_position50\", \"regression_position100\",\n",
    "              \"bollinger_position20_2\", \"bollinger_position50_2\", \"bollinger_position100_2\"]\n",
    "\n",
    "ftest_selected_indicators = [\"macd12_26\", \"macd_signal12_26\", \"cci50\", \"horizontal_lower20\", \"horizontal_lower50\", \n",
    "                             \"ma_cross50_200\", \"horizontal_lower200\", \"regression_threshold20\", \n",
    "                             \"regression_threshold100\", \"chande100\", \"horizontal_lower100\", \"ma_cross20_50\", \n",
    "                             \"cci_threshold50\", \"lwma10\", \"regression_position20\", \"regression_upper20\",\n",
    "                             \"regression_position100\", \"volatility10\", \"ema10\", \"aaron_oscillator40\", \n",
    "                             \"bollinger_lower20_2\", \"rsi20\", \"aaron_oscillator25\", \"horizontal_upper20\",\n",
    "                             \"volatility20\", \"aaron_up40\", \"aaron_oscillator15\", \"aaron_down40\", \"sma10\", \n",
    "                             \"aaron_down25\"]\n",
    "\n",
    "svm_standard = joblib.load(STORAGE_PATH_MODELS.format(\"price_predictor_svm_standard.joblib\"))\n",
    "svm_fselected = joblib.load(STORAGE_PATH_MODELS.format(\"price_predictor_svm_fselected.joblib\"))\n",
    "svm_volatility = joblib.load(STORAGE_PATH_MODELS.format(\"volatility10_predictor_svm_standard.joblib\"))\n",
    "\n",
    "def svm_price_strategy(stock, svm, indicators):\n",
    "    features = stock[indicators].fillna(0)\n",
    "    return np.clip(svm.predict(features), 0, 1)\n",
    "\n",
    "def svm_volatility_strategy(stock, svm, indicators):\n",
    "    features = stock[indicators].fillna(0)\n",
    "    return np.clip(-svm.predict(features), 0, 1)\n",
    "\n",
    "svm_strategies = {\n",
    "    \"svm_standard\": lambda stock: svm_price_strategy(stock, svm_standard, svm_indicators),\n",
    "    \"svm_f_selected\": lambda stock: svm_price_strategy(stock, svm_fselected, ftest_selected_indicators),\n",
    "    \"svm_volatility\": lambda stock: svm_volatility_strategy(stock, svm_volatility, svm_indicators)\n",
    "}"
   ]
  },
  {
   "cell_type": "markdown",
   "metadata": {},
   "source": [
    "## Neural network classifier"
   ]
  },
  {
   "cell_type": "code",
   "execution_count": 16,
   "metadata": {},
   "outputs": [],
   "source": [
    "# small neural network for predicting the future price or volatility\n",
    "class PriceHistoryNetwork(nn.Module):\n",
    "    def __init__(self, input_neurons=24):\n",
    "        super().__init__() \n",
    "        # define layers \n",
    "        self.fc1 = nn.Linear(input_neurons, 12)\n",
    "        self.sigm1 = nn.Sigmoid()\n",
    "        self.fc2 = nn.Linear(12, 8)\n",
    "        self.sigm2 = nn.Sigmoid()\n",
    "        self.fc3 = nn.Linear(8, 1)\n",
    "        self.sigm3 = nn.Sigmoid()\n",
    "\n",
    "\n",
    "    def forward(self, x):\n",
    "        x = self.fc1(x)\n",
    "        x = self.sigm1(x)\n",
    "        x = self.fc2(x)\n",
    "        x = self.sigm2(x)\n",
    "        x = self.fc3(x)\n",
    "        x = self.sigm3(x)\n",
    "        return x"
   ]
  },
  {
   "cell_type": "code",
   "execution_count": 26,
   "metadata": {},
   "outputs": [],
   "source": [
    "net_indicators = [\"sma10\", \"sma20\", \"sma50\", \"sma100\", \"lwma10\", \"lwma20\", \"lwma50\", \"lwma100\", \"lwma200\",\n",
    "                  \"ema10\", \"ema20\", \"ema50\", \"ema100\", \"rate_of_change20\", \"rate_of_change50\", \n",
    "                  \"horizontal_position20\", \"horizontal_position50\", \"horizontal_position100\",\n",
    "                  \"regression_position20\", \"regression_position50\", \"regression_position100\",\n",
    "                  \"bollinger_position20_2\", \"bollinger_position50_2\", \"bollinger_position100_2\"]\n",
    "\n",
    "ftest_selected_indicators = [\"macd12_26\", \"macd_signal12_26\", \"cci50\", \"horizontal_lower20\", \"horizontal_lower50\", \n",
    "                             \"ma_cross50_200\", \"horizontal_lower200\", \"regression_threshold20\", \n",
    "                             \"regression_threshold100\", \"chande100\", \"horizontal_lower100\", \"ma_cross20_50\", \n",
    "                             \"cci_threshold50\", \"lwma10\", \"regression_position20\", \"regression_upper20\",\n",
    "                             \"regression_position100\", \"volatility10\", \"ema10\", \"aaron_oscillator40\", \n",
    "                             \"bollinger_lower20_2\", \"rsi20\", \"aaron_oscillator25\", \"horizontal_upper20\",\n",
    "                             \"volatility20\", \"aaron_up40\", \"aaron_oscillator15\", \"aaron_down40\", \"sma10\", \n",
    "                             \"aaron_down25\"]\n",
    "\n",
    "net_standard = PriceHistoryNetwork()\n",
    "net_standard.load_state_dict(torch.load(STORAGE_PATH_MODELS.format(\"price_predictor_net_standard.pth\")))\n",
    "net_standard.eval()\n",
    "\n",
    "net_all = PriceHistoryNetwork(len(all_indicators))\n",
    "net_all.load_state_dict(torch.load(STORAGE_PATH_MODELS.format(\"price_predictor_net_all.pth\")))\n",
    "net_all.eval()\n",
    "\n",
    "net_fselected = PriceHistoryNetwork(len(ftest_selected_indicators))\n",
    "net_fselected.load_state_dict(torch.load(STORAGE_PATH_MODELS.format(\"price_predictor_net_fselected.pth\")))\n",
    "net_fselected.eval()\n",
    "\n",
    "net_volatility = PriceHistoryNetwork()\n",
    "net_volatility.load_state_dict(torch.load(STORAGE_PATH_MODELS.format(\"volatility10_predictor_net_standard.pth\")))\n",
    "net_volatility.eval()\n",
    "\n",
    "def net_price_strategy(stock, net, indicators):\n",
    "    features = torch.tensor(stock[indicators].fillna(0).values.astype(np.float32))\n",
    "    classifications = net(features).detach().numpy()\n",
    "    return np.maximum(np.sign(classifications - 0.50), 0)\n",
    "\n",
    "def net_volatility_strategy(stock, net, indicators):\n",
    "    features = torch.tensor(stock[indicators].fillna(0).values.astype(np.float32))\n",
    "    classifications = net(features).detach().numpy()\n",
    "    return -np.minimum(np.sign(classifications - 0.50), 0)\n",
    "\n",
    "net_strategies = {\n",
    "    \"net_standard\": lambda stock: net_price_strategy(stock, net_standard, net_indicators),\n",
    "    \"net_all\": lambda stock: net_price_strategy(stock, net_all, all_indicators),\n",
    "    \"price_predictor_net_fselected\": lambda stock: net_price_strategy(stock, net_fselected, ftest_selected_indicators),\n",
    "    \"net_volatilty\": lambda stock: net_volatility_strategy(stock, net_volatility, net_indicators)\n",
    "}"
   ]
  },
  {
   "cell_type": "markdown",
   "metadata": {},
   "source": [
    "## Trend follower\n",
    "\n",
    "The trend of a stock is defined to be positive, if a faster moving average is above the slower moving average.\n",
    "This rule takes a position in a stock, if the trend is positive."
   ]
  },
  {
   "cell_type": "code",
   "execution_count": 27,
   "metadata": {},
   "outputs": [],
   "source": [
    "# define the trend follower strategy\n",
    "def trend_follower(stock, trend):\n",
    "    return np.where(np.isnan(stock[trend]), 0, np.where(stock[trend] > 0, 1, 0))\n",
    "\n",
    "trend_follower_strategies = {\n",
    "    \"ma trend 20-50\" : lambda stock: trend_follower(stock, \"ma_trend20_50\"),\n",
    "    \"ma trend 50-200\" : lambda stock: trend_follower(stock, \"ma_trend50_200\")\n",
    "}"
   ]
  },
  {
   "cell_type": "code",
   "execution_count": null,
   "metadata": {},
   "outputs": [],
   "source": []
  }
 ],
 "metadata": {
  "kernelspec": {
   "display_name": "Python 3",
   "language": "python",
   "name": "python3"
  },
  "language_info": {
   "codemirror_mode": {
    "name": "ipython",
    "version": 3
   },
   "file_extension": ".py",
   "mimetype": "text/x-python",
   "name": "python",
   "nbconvert_exporter": "python",
   "pygments_lexer": "ipython3",
   "version": "3.8.10"
  }
 },
 "nbformat": 4,
 "nbformat_minor": 4
}
