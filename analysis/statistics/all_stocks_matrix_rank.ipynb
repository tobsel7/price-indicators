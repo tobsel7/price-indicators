{
 "cells": [
  {
   "cell_type": "code",
   "execution_count": 2,
   "metadata": {},
   "outputs": [],
   "source": [
    "import numpy as np\n",
    "import pandas as pd\n",
    "from matplotlib import pyplot as plt"
   ]
  },
  {
   "cell_type": "code",
   "execution_count": 3,
   "metadata": {},
   "outputs": [],
   "source": [
    "STORAGE_PATH = \"../../persisted_data/feather/{}.feather\"\n",
    "\n",
    "def load_data_set(name):\n",
    "    data = pd.read_feather(STORAGE_PATH.format(name))\n",
    "    return data"
   ]
  },
  {
   "cell_type": "code",
   "execution_count": 4,
   "metadata": {},
   "outputs": [],
   "source": [
    "# load all data\n",
    "all_prices = load_data_set(\"all_stocks_all_data\")\n",
    "all_prices = all_prices.fillna(0)"
   ]
  },
  {
   "cell_type": "markdown",
   "metadata": {},
   "source": [
    "# Rank of stock price matrix\n",
    "\n",
    "Here price charts of all stocks are analyzed in terms of the linear independence of individual stock prices.\n",
    "If the rank of the stock price matrix is significantly different from min(rows, columns), there are some stocks/markets are heavily dependent on other stocks."
   ]
  },
  {
   "cell_type": "code",
   "execution_count": 5,
   "metadata": {},
   "outputs": [
    {
     "name": "stdout",
     "output_type": "stream",
     "text": [
      "2580\n"
     ]
    }
   ],
   "source": [
    "rank = np.linalg.matrix_rank(all_prices.values)\n",
    "print(rank)"
   ]
  },
  {
   "cell_type": "code",
   "execution_count": null,
   "metadata": {},
   "outputs": [],
   "source": [
    "rank_rounded = np.linalg.matrix_rank(all_prices.round(1).values)\n",
    "print(rank_rounded)"
   ]
  },
  {
   "cell_type": "code",
   "execution_count": 7,
   "metadata": {},
   "outputs": [
    {
     "name": "stdout",
     "output_type": "stream",
     "text": [
      "2580\n"
     ]
    }
   ],
   "source": [
    "plt.matshow(np.corrcoef(np.transpose(all_prices.values[:10])))"
   ]
  },
  {
   "cell_type": "code",
   "execution_count": null,
   "metadata": {},
   "outputs": [],
   "source": []
  }
 ],
 "metadata": {
  "kernelspec": {
   "display_name": "Python 3",
   "language": "python",
   "name": "python3"
  },
  "language_info": {
   "codemirror_mode": {
    "name": "ipython",
    "version": 3
   },
   "file_extension": ".py",
   "mimetype": "text/x-python",
   "name": "python",
   "nbconvert_exporter": "python",
   "pygments_lexer": "ipython3",
   "version": "3.8.10"
  }
 },
 "nbformat": 4,
 "nbformat_minor": 4
}
