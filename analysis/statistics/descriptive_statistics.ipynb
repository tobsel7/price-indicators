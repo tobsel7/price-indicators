{
 "cells": [
  {
   "cell_type": "code",
   "execution_count": 20,
   "id": "a2dca7bd",
   "metadata": {},
   "outputs": [],
   "source": [
    "# imports\n",
    "import pandas as pd\n"
   ]
  },
  {
   "cell_type": "code",
   "execution_count": 21,
   "id": "70d8135b",
   "metadata": {},
   "outputs": [],
   "source": [
    "# define the path where the data is persisted\n",
    "STORAGE_PATH = \"../../persisted_data/feather/{}.feather\""
   ]
  },
  {
   "cell_type": "code",
   "execution_count": 22,
   "id": "234d643a",
   "metadata": {},
   "outputs": [],
   "source": [
    "ibm_data = pd.read_feather(STORAGE_PATH.format(\"IBM_full\"))"
   ]
  },
  {
   "cell_type": "code",
   "execution_count": null,
   "id": "8e7189d7",
   "metadata": {},
   "outputs": [],
   "source": []
  },
  {
   "cell_type": "code",
   "execution_count": null,
   "id": "da9ac6ef",
   "metadata": {},
   "outputs": [],
   "source": []
  }
 ],
 "metadata": {
  "kernelspec": {
   "display_name": "Python 3 (ipykernel)",
   "language": "python",
   "name": "python3"
  },
  "language_info": {
   "codemirror_mode": {
    "name": "ipython",
    "version": 3
   },
   "file_extension": ".py",
   "mimetype": "text/x-python",
   "name": "python",
   "nbconvert_exporter": "python",
   "pygments_lexer": "ipython3",
   "version": "3.8.10"
  }
 },
 "nbformat": 4,
 "nbformat_minor": 5
}
