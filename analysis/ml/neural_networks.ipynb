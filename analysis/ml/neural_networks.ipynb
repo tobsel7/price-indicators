{
 "cells": [
  {
   "cell_type": "code",
   "execution_count": 1,
   "metadata": {},
   "outputs": [],
   "source": [
    "import numpy as np\n",
    "import pandas as pd\n",
    "from matplotlib import pyplot as plt\n",
    "import torch\n",
    "from torch import nn\n",
    "from torch.utils.data import Dataset, DataLoader"
   ]
  },
  {
   "cell_type": "code",
   "execution_count": 2,
   "metadata": {},
   "outputs": [],
   "source": [
    "STORAGE_PATH_DATA = \"../../persisted_data/feather/{}.feather\"\n",
    "STORAGE_PATH_MODELS = \"../../persisted_data/models/{}.pth\"\n",
    "def load_data_set(name):\n",
    "    data = pd.read_feather(STORAGE_PATH_DATA.format(name))\n",
    "    return data"
   ]
  },
  {
   "cell_type": "code",
   "execution_count": 3,
   "metadata": {},
   "outputs": [],
   "source": [
    "# define the used indicators\n",
    "standard_indicators = [\"sma10\", \"sma20\", \"sma50\", \"sma100\", \"lwma10\", \"lwma20\", \"lwma50\", \"lwma100\", \"lwma200\",\n",
    "                       \"ema10\", \"ema20\", \"ema50\", \"ema100\", \"rate_of_change20\", \"rate_of_change50\", \n",
    "                       \"horizontal_position20\", \"horizontal_position50\", \"horizontal_position100\",\n",
    "                       \"regression_position20\", \"regression_position50\", \"regression_position100\",\n",
    "                       \"bollinger_position20_2\", \"bollinger_position50_2\", \"bollinger_position100_2\"]\n",
    "\n",
    "svm_indicators_f_classif_selected = ['macd20_50', 'macd_signal20_50', 'ma_trend50_200', 'macd50_200',\n",
    "                                     'macd_signal50_200', 'aaron_up15', 'aaron_up25', 'aaron_up40',\n",
    "                                     'bollinger_position20_2', 'bollinger_position50_2',\n",
    "                                     'bollinger_position100_2', 'bollinger_position200_2', 'rsi14', 'rsi20',\n",
    "                                     'rsi_logistic20', 'horizontal_lower20', 'horizontal_position20',\n",
    "                                     'horizontal_threshold20', 'horizontal_lower50', 'horizontal_position50',\n",
    "                                     'horizontal_threshold50', 'horizontal_lower100',\n",
    "                                     'horizontal_position100', 'horizontal_threshold100',\n",
    "                                     'horizontal_lower200', 'horizontal_position200',\n",
    "                                     'horizontal_threshold200', 'regression_position200', 'chande50',\n",
    "                                     'chande100']"
   ]
  },
  {
   "cell_type": "code",
   "execution_count": 4,
   "metadata": {},
   "outputs": [],
   "source": [
    "class PriceHistoryDataset(Dataset):\n",
    "\n",
    "    def __init__(self, file_name, selected_indicators=standard_indicators, future_indicator=\"future_price\"):\n",
    "        # Read the feather data set file\n",
    "        self.data = load_data_set(file_name)\n",
    "        self.indicators = torch.tensor(self.data[selected_indicators].values.astype(np.float32)) \n",
    "        self.future = torch.tensor(np.where(self.data[future_indicator] > 1, 1, 0).astype(np.float32)) \n",
    "\n",
    "    def __getitem__(self, i):\n",
    "        return self.indicators[i], self.future[i]\n",
    "\n",
    "    def __len__(self):\n",
    "        return len(self.data)"
   ]
  },
  {
   "cell_type": "code",
   "execution_count": 5,
   "metadata": {},
   "outputs": [],
   "source": [
    "# create a data loader for training\n",
    "training_dataset = PriceHistoryDataset(\"all_stocks_20spy_20shift_normalized\")\n",
    "dataloader_training = DataLoader(training_dataset, 64, shuffle=True, num_workers=4)"
   ]
  },
  {
   "cell_type": "code",
   "execution_count": 6,
   "metadata": {},
   "outputs": [],
   "source": [
    "class PriceHistoryNetwork(nn.Module):\n",
    "    def __init__(self):\n",
    "        super().__init__() \n",
    "        # define layers \n",
    "        self.fc1 = nn.Linear(24, 12)\n",
    "        self.sigm1 = nn.Sigmoid()\n",
    "        self.fc2 = nn.Linear(12, 8)\n",
    "        self.sigm2 = nn.Sigmoid()\n",
    "        self.fc3 = nn.Linear(8, 1)\n",
    "        self.sigm3 = nn.Sigmoid()\n",
    "\n",
    "\n",
    "    def forward(self, x):\n",
    "        x = self.fc1(x)\n",
    "        x = self.sigm1(x)\n",
    "        x = self.fc2(x)\n",
    "        x = self.sigm2(x)\n",
    "        x = self.fc3(x)\n",
    "        x = self.sigm3(x)\n",
    "\n",
    "        return x"
   ]
  },
  {
   "cell_type": "code",
   "execution_count": 7,
   "metadata": {},
   "outputs": [],
   "source": [
    "# training function\n",
    "def train(net, train_loader, loss_function):\n",
    "    optimizer = torch.optim.SGD(net.parameters(),lr=0.01, momentum=0.9)\n",
    "    epoches = 10\n",
    "    for epoch in range(epoches):\n",
    "        net.train() \n",
    "        for i, (indicators, future) in enumerate(train_loader):\n",
    "            outs = torch.flatten(net(indicators))\n",
    "            loss = loss_function(outs, future)\n",
    "\n",
    "            # clear grads\n",
    "            optimizer.zero_grad()\n",
    "            \n",
    "            # backward\n",
    "            loss.backward()\n",
    "            \n",
    "            # update parameters\n",
    "            optimizer.step()\n",
    "            \n",
    "    return net"
   ]
  },
  {
   "cell_type": "code",
   "execution_count": 8,
   "metadata": {},
   "outputs": [
    {
     "data": {
      "text/plain": [
       "PriceHistoryNetwork(\n",
       "  (fc1): Linear(in_features=24, out_features=12, bias=True)\n",
       "  (sigm1): Sigmoid()\n",
       "  (fc2): Linear(in_features=12, out_features=8, bias=True)\n",
       "  (sigm2): Sigmoid()\n",
       "  (fc3): Linear(in_features=8, out_features=1, bias=True)\n",
       "  (sigm3): Sigmoid()\n",
       ")"
      ]
     },
     "execution_count": 8,
     "metadata": {},
     "output_type": "execute_result"
    }
   ],
   "source": [
    "# create and train the network\n",
    "net = PriceHistoryNetwork()\n",
    "loss_function = nn.BCELoss()\n",
    "train(net, dataloader_training, loss_function)"
   ]
  },
  {
   "cell_type": "code",
   "execution_count": 9,
   "metadata": {},
   "outputs": [],
   "source": [
    "# Save the weight of current model to disk\n",
    "torch.save(net.state_dict(), STORAGE_PATH_MODELS.format(\"neural_network_standard\"))"
   ]
  },
  {
   "cell_type": "code",
   "execution_count": null,
   "metadata": {},
   "outputs": [],
   "source": []
  }
 ],
 "metadata": {
  "kernelspec": {
   "display_name": "Python 3",
   "language": "python",
   "name": "python3"
  },
  "language_info": {
   "codemirror_mode": {
    "name": "ipython",
    "version": 3
   },
   "file_extension": ".py",
   "mimetype": "text/x-python",
   "name": "python",
   "nbconvert_exporter": "python",
   "pygments_lexer": "ipython3",
   "version": "3.8.10"
  }
 },
 "nbformat": 4,
 "nbformat_minor": 4
}
