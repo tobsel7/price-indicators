{
 "cells": [
  {
   "cell_type": "code",
   "execution_count": 2,
   "metadata": {},
   "outputs": [],
   "source": [
    "import numpy as np\n",
    "import pandas as pd\n",
    "from matplotlib import pyplot as plt\n",
    "import torch\n",
    "from torch import nn\n",
    "from torch.utils.data import Dataset, DataLoader"
   ]
  },
  {
   "cell_type": "code",
   "execution_count": 3,
   "metadata": {},
   "outputs": [],
   "source": [
    "STORAGE_PATH_DATA = \"../../persisted_data/feather/{}.feather\"\n",
    "STORAGE_PATH_MODELS = \"../../persisted_data/models/{}.pth\"\n",
    "def load_data_set(name):\n",
    "    data = pd.read_feather(STORAGE_PATH_DATA.format(name))\n",
    "    return data"
   ]
  },
  {
   "cell_type": "code",
   "execution_count": 85,
   "metadata": {},
   "outputs": [],
   "source": [
    "# define the used indicators\n",
    "# the quickest way to dynamically load all indicator columns is to load a small data and retrieve the columns\n",
    "chart_data = load_data_set(\"IBM_normalized\")\n",
    "all_indicators = chart_data.columns[~chart_data.columns.str.contains(\"future|current\", regex=True)]\n",
    "\n",
    "standard_indicators = [\"sma10\", \"sma20\", \"sma50\", \"sma100\", \"lwma10\", \"lwma20\", \"lwma50\", \"lwma100\", \"lwma200\",\n",
    "                       \"ema10\", \"ema20\", \"ema50\", \"ema100\", \"rate_of_change20\", \"rate_of_change50\", \n",
    "                       \"horizontal_position20\", \"horizontal_position50\", \"horizontal_position100\",\n",
    "                       \"regression_position20\", \"regression_position50\", \"regression_position100\",\n",
    "                       \"bollinger_position20_2\", \"bollinger_position50_2\", \"bollinger_position100_2\"]\n",
    "\n",
    "ftest_selected_indicators = [\"macd12_26\", \"macd_signal12_26\", \"cci50\", \"horizontal_lower20\", \"horizontal_lower50\", \n",
    "                             \"ma_cross50_200\", \"horizontal_lower200\", \"regression_threshold20\", \n",
    "                             \"regression_threshold100\", \"chande100\", \"horizontal_lower100\", \"ma_cross20_50\", \n",
    "                             \"cci_threshold50\", \"lwma10\", \"regression_position20\", \"regression_upper20\",\n",
    "                             \"regression_position100\", \"volatility10\", \"ema10\", \"aaron_oscillator40\", \n",
    "                             \"bollinger_lower20_2\", \"rsi20\", \"aaron_oscillator25\", \"horizontal_upper20\",\n",
    "                             \"volatility20\", \"aaron_up40\", \"aaron_oscillator15\", \"aaron_down40\", \"sma10\", \n",
    "                             \"aaron_down25\"]"
   ]
  },
  {
   "cell_type": "code",
   "execution_count": 5,
   "metadata": {},
   "outputs": [],
   "source": [
    "# default mappers for the labels\n",
    "def future_price_mapper(data_set):\n",
    "    # map to 1, if price is increasing, 0 otherwise\n",
    "    return np.maximum(np.sign(data_set[\"future_price\"] - 1), 0)\n",
    "\n",
    "def future_volatility_mapper(data_set, interval=10):\n",
    "    volatility_indicator = \"future_volatility{}\".format(interval)\n",
    "    # map to 1, if volatility is increasing, 0 otherwise\n",
    "    return np.maximum(np.sign(data_set[volatility_indicator] - 1), 0)\n",
    "\n",
    "# currying function used to fix the interval and pass the resulting function to the data loader\n",
    "def build_future_volatility_mapper(interval):\n",
    "    return lambda data_set: future_volatility_mapper(data_set, interval)"
   ]
  },
  {
   "cell_type": "code",
   "execution_count": 6,
   "metadata": {},
   "outputs": [],
   "source": [
    "# a simple price data loader, the label is created using a custom map function\n",
    "class PriceHistoryDataset(Dataset):\n",
    "    def __init__(self, file_name, selected_indicators=standard_indicators, label_mapper=future_price_mapper):\n",
    "        # Read the feather data set file\n",
    "        data = load_data_set(file_name)\n",
    "        self.indicators = torch.tensor(data[selected_indicators].values.astype(np.float32)) \n",
    "        self.label = torch.tensor(label_mapper(data).astype(np.float32)) \n",
    "\n",
    "    def __getitem__(self, i):\n",
    "        return self.indicators[i], self.label[i]\n",
    "\n",
    "    def __len__(self):\n",
    "        return self.label.shape[0]"
   ]
  },
  {
   "cell_type": "code",
   "execution_count": 7,
   "metadata": {},
   "outputs": [],
   "source": [
    "# small neural network for predicting the future price or volatility\n",
    "class PriceHistoryNetwork(nn.Module):\n",
    "    def __init__(self, input_neurons=24):\n",
    "        super().__init__() \n",
    "        # define layers \n",
    "        self.fc1 = nn.Linear(input_neurons, 12)\n",
    "        self.sigm1 = nn.Sigmoid()\n",
    "        self.fc2 = nn.Linear(12, 8)\n",
    "        self.sigm2 = nn.Sigmoid()\n",
    "        self.fc3 = nn.Linear(8, 1)\n",
    "        self.sigm3 = nn.Sigmoid()\n",
    "\n",
    "\n",
    "    def forward(self, x):\n",
    "        x = self.fc1(x)\n",
    "        x = self.sigm1(x)\n",
    "        x = self.fc2(x)\n",
    "        x = self.sigm2(x)\n",
    "        x = self.fc3(x)\n",
    "        x = self.sigm3(x)\n",
    "        return x"
   ]
  },
  {
   "cell_type": "code",
   "execution_count": 80,
   "metadata": {},
   "outputs": [],
   "source": [
    "# training function\n",
    "def train(net, train_loader, loss_function, epochs=10, optimizer=None):\n",
    "    if optimizer is None:\n",
    "        # use the default optimizer\n",
    "        optimizer = torch.optim.SGD(net.parameters(), lr=0.01, momentum=0.9)\n",
    "        \n",
    "    correct_total = 0\n",
    "    predictions_total = 0\n",
    "    for epoch in range(epochs):\n",
    "        correct_total = 0\n",
    "        predictions_total = 0\n",
    "        net.train() \n",
    "        for i, (indicators, future) in enumerate(train_loader):\n",
    "            outs = torch.flatten(net(indicators))\n",
    "            loss = loss_function(outs, future)\n",
    "                                  \n",
    "            # clear grads\n",
    "            optimizer.zero_grad()\n",
    "            \n",
    "            # backward\n",
    "            loss.backward()\n",
    "            \n",
    "            # update parameters\n",
    "            optimizer.step()\n",
    "            \n",
    "            # evaluate the accuracy\n",
    "            preds = torch.where(outs > 0.5, 1, 0)\n",
    "            correct_total += torch.sum(preds == future)\n",
    "            predictions_total += len(future)\n",
    "        \n",
    "        print(\"Epoch {}. Running accuracy: {}\".format(epoch, correct_total / predictions_total))\n",
    "        \n",
    "    print(\"Training finished. Total accuracy: {}\".format(correct_total / predictions_total))\n",
    "    \n",
    "    return net"
   ]
  },
  {
   "cell_type": "code",
   "execution_count": 81,
   "metadata": {},
   "outputs": [],
   "source": [
    "# create a data loader for training on the future price\n",
    "training_dataset = PriceHistoryDataset(\"all_stocks_10spy_20shift_normalized\")\n",
    "dataloader_training = DataLoader(training_dataset, 64, shuffle=True, num_workers=4)\n",
    "# create and train the network\n",
    "net = PriceHistoryNetwork()\n",
    "loss_function = nn.BCELoss()"
   ]
  },
  {
   "cell_type": "code",
   "execution_count": 82,
   "metadata": {},
   "outputs": [
    {
     "name": "stdout",
     "output_type": "stream",
     "text": [
      "Epoch 0. Running accuracy: 0.5065320730209351\n",
      "Epoch 1. Running accuracy: 0.5092029571533203\n",
      "Epoch 2. Running accuracy: 0.5145485401153564\n",
      "Epoch 3. Running accuracy: 0.5189905762672424\n",
      "Epoch 4. Running accuracy: 0.5206906795501709\n",
      "Epoch 5. Running accuracy: 0.5207306146621704\n",
      "Epoch 6. Running accuracy: 0.5218386650085449\n",
      "Epoch 7. Running accuracy: 0.5218299031257629\n",
      "Epoch 8. Running accuracy: 0.5222466588020325\n",
      "Epoch 9. Running accuracy: 0.5229623317718506\n",
      "Training finished. Total accuracy: 0.5229623317718506\n"
     ]
    },
    {
     "data": {
      "text/plain": [
       "PriceHistoryNetwork(\n",
       "  (fc1): Linear(in_features=24, out_features=12, bias=True)\n",
       "  (sigm1): Sigmoid()\n",
       "  (fc2): Linear(in_features=12, out_features=8, bias=True)\n",
       "  (sigm2): Sigmoid()\n",
       "  (fc3): Linear(in_features=8, out_features=1, bias=True)\n",
       "  (sigm3): Sigmoid()\n",
       ")"
      ]
     },
     "execution_count": 82,
     "metadata": {},
     "output_type": "execute_result"
    }
   ],
   "source": [
    "# train the network\n",
    "train(net, dataloader_training, loss_function)"
   ]
  },
  {
   "cell_type": "code",
   "execution_count": 83,
   "metadata": {},
   "outputs": [],
   "source": [
    "# save the weight of current model to disk\n",
    "torch.save(net.state_dict(), STORAGE_PATH_MODELS.format(\"price_predictor_net_standard\"))"
   ]
  },
  {
   "cell_type": "code",
   "execution_count": 78,
   "metadata": {},
   "outputs": [],
   "source": [
    "# create a data loader for training on the future price\n",
    "training_dataset = PriceHistoryDataset(\"all_stocks_10spy_20shift_normalized\", selected_indicators=all_indicators)\n",
    "dataloader_training = DataLoader(training_dataset, 64, shuffle=True, num_workers=4)\n",
    "# create and train the network\n",
    "net = PriceHistoryNetwork(len(all_indicators))\n",
    "loss_function = nn.BCELoss()"
   ]
  },
  {
   "cell_type": "code",
   "execution_count": 79,
   "metadata": {},
   "outputs": [
    {
     "name": "stdout",
     "output_type": "stream",
     "text": [
      "Epoch 0. Running accuracy: 0.5079906582832336\n",
      "Epoch 1. Running accuracy: 0.5091814994812012\n",
      "Epoch 2. Running accuracy: 0.5120821595191956\n",
      "Epoch 3. Running accuracy: 0.5145368576049805\n",
      "Epoch 4. Running accuracy: 0.5187948942184448\n",
      "Epoch 5. Running accuracy: 0.5226137042045593\n",
      "Epoch 6. Running accuracy: 0.5235260725021362\n",
      "Epoch 7. Running accuracy: 0.52419114112854\n",
      "Epoch 8. Running accuracy: 0.526024580001831\n",
      "Epoch 9. Running accuracy: 0.5261462926864624\n",
      "Training finished. Total accuracy: 0.5261462926864624\n"
     ]
    },
    {
     "data": {
      "text/plain": [
       "PriceHistoryNetwork(\n",
       "  (fc1): Linear(in_features=116, out_features=12, bias=True)\n",
       "  (sigm1): Sigmoid()\n",
       "  (fc2): Linear(in_features=12, out_features=8, bias=True)\n",
       "  (sigm2): Sigmoid()\n",
       "  (fc3): Linear(in_features=8, out_features=1, bias=True)\n",
       "  (sigm3): Sigmoid()\n",
       ")"
      ]
     },
     "execution_count": 79,
     "metadata": {},
     "output_type": "execute_result"
    }
   ],
   "source": [
    "# train the network\n",
    "tuned_optimizer = torch.optim.Adam(net.parameters(), lr=0.001)\n",
    "train(net, dataloader_training, loss_function, optimizer=tuned_optimizer)"
   ]
  },
  {
   "cell_type": "code",
   "execution_count": 70,
   "metadata": {},
   "outputs": [],
   "source": [
    "# save the weight of current model to disk\n",
    "torch.save(net.state_dict(), STORAGE_PATH_MODELS.format(\"price_predictor_net_all\"))"
   ]
  },
  {
   "cell_type": "code",
   "execution_count": 86,
   "metadata": {},
   "outputs": [],
   "source": [
    "# create a data loader for training on the future price\n",
    "training_dataset = PriceHistoryDataset(\"all_stocks_10spy_20shift_normalized\", selected_indicators=ftest_selected_indicators)\n",
    "dataloader_training = DataLoader(training_dataset, 64, shuffle=True, num_workers=4)\n",
    "# create and train the network\n",
    "net = PriceHistoryNetwork(len(ftest_selected_indicators))\n",
    "loss_function = nn.BCELoss()"
   ]
  },
  {
   "cell_type": "code",
   "execution_count": 87,
   "metadata": {},
   "outputs": [
    {
     "name": "stdout",
     "output_type": "stream",
     "text": [
      "Epoch 0. Running accuracy: 0.5171599984169006\n",
      "Epoch 1. Running accuracy: 0.5197831988334656\n",
      "Epoch 2. Running accuracy: 0.5211346745491028\n",
      "Epoch 3. Running accuracy: 0.5226137042045593\n",
      "Epoch 4. Running accuracy: 0.5240256190299988\n",
      "Epoch 5. Running accuracy: 0.5252369046211243\n",
      "Epoch 6. Running accuracy: 0.5260128974914551\n",
      "Epoch 7. Running accuracy: 0.5277772545814514\n",
      "Epoch 8. Running accuracy: 0.5282251834869385\n",
      "Epoch 9. Running accuracy: 0.529039204120636\n",
      "Training finished. Total accuracy: 0.529039204120636\n"
     ]
    },
    {
     "data": {
      "text/plain": [
       "PriceHistoryNetwork(\n",
       "  (fc1): Linear(in_features=30, out_features=12, bias=True)\n",
       "  (sigm1): Sigmoid()\n",
       "  (fc2): Linear(in_features=12, out_features=8, bias=True)\n",
       "  (sigm2): Sigmoid()\n",
       "  (fc3): Linear(in_features=8, out_features=1, bias=True)\n",
       "  (sigm3): Sigmoid()\n",
       ")"
      ]
     },
     "execution_count": 87,
     "metadata": {},
     "output_type": "execute_result"
    }
   ],
   "source": [
    "# train the network\n",
    "tuned_optimizer = torch.optim.Adam(net.parameters(), lr=0.001)\n",
    "train(net, dataloader_training, loss_function, optimizer=tuned_optimizer)"
   ]
  },
  {
   "cell_type": "code",
   "execution_count": 88,
   "metadata": {},
   "outputs": [],
   "source": [
    "# save the weight of current model to disk\n",
    "torch.save(net.state_dict(), STORAGE_PATH_MODELS.format(\"price_predictor_net_fselected\"))"
   ]
  },
  {
   "cell_type": "code",
   "execution_count": 74,
   "metadata": {},
   "outputs": [],
   "source": [
    "# create a data loader for training on the future volatility\n",
    "training_dataset = PriceHistoryDataset(\"all_stocks_10spy_20shift_normalized\", selected_indicators=all_indicators, label_mapper=build_future_volatility_mapper(10))\n",
    "dataloader_training = DataLoader(training_dataset, 64, shuffle=True, num_workers=4)\n",
    "# create and train the network\n",
    "net = PriceHistoryNetwork(len(all_indicators))\n",
    "loss_function = nn.BCELoss()"
   ]
  },
  {
   "cell_type": "code",
   "execution_count": 75,
   "metadata": {},
   "outputs": [
    {
     "name": "stdout",
     "output_type": "stream",
     "text": [
      "Epoch 0. Running accuracy: 0.5741108655929565\n",
      "Epoch 1. Running accuracy: 0.659165620803833\n",
      "Epoch 2. Running accuracy: 0.6639182567596436\n",
      "Epoch 3. Running accuracy: 0.6666465401649475\n",
      "Epoch 4. Running accuracy: 0.6694284081459045\n",
      "Epoch 5. Running accuracy: 0.6725267171859741\n",
      "Epoch 6. Running accuracy: 0.674107015132904\n",
      "Epoch 7. Running accuracy: 0.6749551296234131\n",
      "Epoch 8. Running accuracy: 0.676155686378479\n",
      "Epoch 9. Running accuracy: 0.6771401166915894\n",
      "Training finished. Total accuracy: 0.6771401166915894\n"
     ]
    },
    {
     "data": {
      "text/plain": [
       "PriceHistoryNetwork(\n",
       "  (fc1): Linear(in_features=116, out_features=12, bias=True)\n",
       "  (sigm1): Sigmoid()\n",
       "  (fc2): Linear(in_features=12, out_features=8, bias=True)\n",
       "  (sigm2): Sigmoid()\n",
       "  (fc3): Linear(in_features=8, out_features=1, bias=True)\n",
       "  (sigm3): Sigmoid()\n",
       ")"
      ]
     },
     "execution_count": 75,
     "metadata": {},
     "output_type": "execute_result"
    }
   ],
   "source": [
    "tuned_optimizer = torch.optim.Adam(net.parameters(), lr=0.001)\n",
    "train(net, dataloader_training, loss_function, optimizer=tuned_optimizer)"
   ]
  },
  {
   "cell_type": "code",
   "execution_count": 77,
   "metadata": {},
   "outputs": [],
   "source": [
    "# save the weight of current model to disk\n",
    "torch.save(net.state_dict(), STORAGE_PATH_MODELS.format(\"volatility10_predictor_net_all\"))"
   ]
  },
  {
   "cell_type": "code",
   "execution_count": null,
   "metadata": {},
   "outputs": [],
   "source": []
  }
 ],
 "metadata": {
  "kernelspec": {
   "display_name": "Python 3",
   "language": "python",
   "name": "python3"
  },
  "language_info": {
   "codemirror_mode": {
    "name": "ipython",
    "version": 3
   },
   "file_extension": ".py",
   "mimetype": "text/x-python",
   "name": "python",
   "nbconvert_exporter": "python",
   "pygments_lexer": "ipython3",
   "version": "3.8.10"
  }
 },
 "nbformat": 4,
 "nbformat_minor": 4
}
