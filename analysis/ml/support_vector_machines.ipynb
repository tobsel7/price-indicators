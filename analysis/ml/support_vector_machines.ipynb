{
 "cells": [
  {
   "cell_type": "code",
   "execution_count": 1,
   "metadata": {},
   "outputs": [],
   "source": [
    "import numpy as np\n",
    "import pandas as pd\n",
    "from matplotlib import pyplot as plt\n",
    "from sklearn import svm\n",
    "import joblib"
   ]
  },
  {
   "cell_type": "code",
   "execution_count": 2,
   "metadata": {},
   "outputs": [],
   "source": [
    "STORAGE_PATH_DATA = \"../../persisted_data/feather/{}.feather\"\n",
    "STORAGE_PATH_MODELS = \"../../persisted_data/models/{}.joblib\"\n",
    "def load_data_set(name):\n",
    "    data = pd.read_feather(STORAGE_PATH_DATA.format(name))\n",
    "    return data"
   ]
  },
  {
   "cell_type": "code",
   "execution_count": 3,
   "metadata": {},
   "outputs": [],
   "source": [
    "# load the data\n",
    "all_stocks = load_data_set(\"all_stocks_20spy_20shift_normalized\")"
   ]
  },
  {
   "cell_type": "code",
   "execution_count": 4,
   "metadata": {},
   "outputs": [],
   "source": [
    "# define the used indicators\n",
    "standard_indicators = [\"sma10\", \"sma20\", \"sma50\", \"sma100\", \"lwma10\", \"lwma20\", \"lwma50\", \"lwma100\", \"lwma200\",\n",
    "                       \"ema10\", \"ema20\", \"ema50\", \"ema100\", \"rate_of_change20\", \"rate_of_change50\", \n",
    "                       \"horizontal_position20\", \"horizontal_position50\", \"horizontal_position100\",\n",
    "                       \"regression_position20\", \"regression_position50\", \"regression_position100\",\n",
    "                       \"bollinger_position20_2\", \"bollinger_position50_2\", \"bollinger_position100_2\"]\n",
    "\n",
    "svm_indicators_f_classif_selected = ['macd20_50', 'macd_signal20_50', 'ma_trend50_200', 'macd50_200',\n",
    "                                     'macd_signal50_200', 'aaron_up15', 'aaron_up25', 'aaron_up40',\n",
    "                                     'bollinger_position20_2', 'bollinger_position50_2',\n",
    "                                     'bollinger_position100_2', 'bollinger_position200_2', 'rsi14', 'rsi20',\n",
    "                                     'rsi_logistic20', 'horizontal_lower20', 'horizontal_position20',\n",
    "                                     'horizontal_threshold20', 'horizontal_lower50', 'horizontal_position50',\n",
    "                                     'horizontal_threshold50', 'horizontal_lower100',\n",
    "                                     'horizontal_position100', 'horizontal_threshold100',\n",
    "                                     'horizontal_lower200', 'horizontal_position200',\n",
    "                                     'horizontal_threshold200', 'regression_position200', 'chande50',\n",
    "                                     'chande100']"
   ]
  },
  {
   "cell_type": "code",
   "execution_count": 5,
   "metadata": {},
   "outputs": [],
   "source": [
    "# take some samples for training\n",
    "samples = all_stocks.sample(10000)\n",
    "\n",
    "# map the future_price to -1 (price decreased) and 1 (price increased)\n",
    "labels = np.sign(samples[\"future_price\"] - 1)"
   ]
  },
  {
   "cell_type": "code",
   "execution_count": 6,
   "metadata": {},
   "outputs": [
    {
     "data": {
      "text/plain": [
       "['../../persisted_data/models/svm_standard.joblib']"
      ]
     },
     "execution_count": 6,
     "metadata": {},
     "output_type": "execute_result"
    }
   ],
   "source": [
    "# choose some indicators\n",
    "features = samples[standard_indicators]\n",
    "# fit the svm classifier\n",
    "classifier = svm.SVC(kernel=\"linear\")\n",
    "classifier.fit(features, labels)\n",
    "joblib.dump(classifier, STORAGE_PATH_MODELS.format(\"svm_standard\")) "
   ]
  },
  {
   "cell_type": "code",
   "execution_count": 7,
   "metadata": {},
   "outputs": [
    {
     "data": {
      "text/plain": [
       "['../../persisted_data/models/svm_f_classif_selected.joblib']"
      ]
     },
     "execution_count": 7,
     "metadata": {},
     "output_type": "execute_result"
    }
   ],
   "source": [
    "# use the f_classif selected indicators\n",
    "features = samples[svm_indicators_f_classif_selected]\n",
    "# fit the svm classifier\n",
    "classifier = svm.SVC(kernel=\"linear\")\n",
    "classifier.fit(features, labels)\n",
    "joblib.dump(classifier, STORAGE_PATH_MODELS.format(\"svm_f_classif_selected\")) "
   ]
  },
  {
   "cell_type": "code",
   "execution_count": null,
   "metadata": {},
   "outputs": [],
   "source": [
    "\n"
   ]
  }
 ],
 "metadata": {
  "kernelspec": {
   "display_name": "Python 3",
   "language": "python",
   "name": "python3"
  },
  "language_info": {
   "codemirror_mode": {
    "name": "ipython",
    "version": 3
   },
   "file_extension": ".py",
   "mimetype": "text/x-python",
   "name": "python",
   "nbconvert_exporter": "python",
   "pygments_lexer": "ipython3",
   "version": "3.8.10"
  }
 },
 "nbformat": 4,
 "nbformat_minor": 4
}
